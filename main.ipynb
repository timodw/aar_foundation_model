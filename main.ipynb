{
 "cells": [
  {
   "cell_type": "code",
   "execution_count": null,
   "id": "be03c40f",
   "metadata": {},
   "outputs": [],
   "source": [
    "import pandas as pd\n",
    "from pathlib import Path\n",
    "import numpy as np\n",
    "import re\n",
    "import h5py\n",
    "import math\n",
    "\n",
    "import plotly\n",
    "from plotly.subplots import make_subplots\n",
    "import plotly.graph_objects as go\n",
    "import plotly.express as px\n",
    "import plotly_resampler"
   ]
  },
  {
   "cell_type": "code",
   "execution_count": null,
   "id": "d82c09e7",
   "metadata": {},
   "outputs": [],
   "source": [
    "with h5py.File('/data/IDLab/aar_foundation_models/processed_data/horse_1_ds_0.hdf5', 'r') as f:\n",
    "    sr = f.attrs['sr']\n",
    "    X_acc = f['acc'][:]\n",
    "    X_gyr = f['gyr'][:]\n"
   ]
  },
  {
   "cell_type": "code",
   "execution_count": 26,
   "id": "dbebd9d4",
   "metadata": {},
   "outputs": [
    {
     "data": {
      "application/vnd.jupyter.widget-view+json": {
       "model_id": "4a253270c77947338baacbf539ed656f",
       "version_major": 2,
       "version_minor": 0
      },
      "text/plain": [
       "FigureWidgetResampler({\n",
       "    'data': [{'line': {'color': 'red'},\n",
       "              'name': '<b style=\"color:sandybrown\">[R]</b> Acc X <i style=\"color:#fc9944\">~10</i>',\n",
       "              'type': 'scattergl',\n",
       "              'uid': '787f599c-cbc4-4c59-9cd6-6b2cc3eb2a9a',\n",
       "              'x': array([0.00000000e+00, 1.81004315e+00, 1.77304227e+01, ..., 1.04625994e+04,\n",
       "                          1.04767698e+04, 1.04859900e+04], shape=(1000,)),\n",
       "              'xaxis': 'x',\n",
       "              'y': array([-0.60430733, -1.79437297, -0.18988332, ..., -0.88254253, -0.59503282,\n",
       "                          -0.98993155], shape=(1000,)),\n",
       "              'yaxis': 'y'},\n",
       "             {'line': {'color': 'green'},\n",
       "              'name': '<b style=\"color:sandybrown\">[R]</b> Acc Y <i style=\"color:#fc9944\">~10</i>',\n",
       "              'type': 'scattergl',\n",
       "              'uid': 'cb017874-fd34-4e2d-90e2-3ec7b9b2d377',\n",
       "              'x': array([0.00000000e+00, 1.81004315e+00, 1.22302916e+01, ..., 1.04610994e+04,\n",
       "                          1.04764398e+04, 1.04859900e+04], shape=(1000,)),\n",
       "              'xaxis': 'x2',\n",
       "              'y': array([ 0.09811452,  2.20440379,  0.18695453, ..., -0.07175539, -0.43150862,\n",
       "                          -0.0473488 ], shape=(1000,)),\n",
       "              'yaxis': 'y2'},\n",
       "             {'line': {'color': 'blue'},\n",
       "              'name': '<b style=\"color:sandybrown\">[R]</b> Acc Z <i style=\"color:#fc9944\">~10</i>',\n",
       "              'type': 'scattergl',\n",
       "              'uid': 'abe25796-4bb3-47c6-b9e6-3225302989cb',\n",
       "              'x': array([0.00000000e+00, 1.81004315e+00, 1.14302725e+01, ..., 1.04635395e+04,\n",
       "                          1.04807699e+04, 1.04859900e+04], shape=(1000,)),\n",
       "              'xaxis': 'x3',\n",
       "              'y': array([ 0.67850338, -2.28933874,  0.86789857, ...,  0.42662731,  0.58527018,\n",
       "                           0.07712484], shape=(1000,)),\n",
       "              'yaxis': 'y3'}],\n",
       "    'layout': {'height': 700,\n",
       "               'template': '...',\n",
       "               'title': {'text': 'Accelerometer Traces'},\n",
       "               'xaxis': {'anchor': 'y', 'domain': [0.0, 1.0], 'matches': 'x3', 'showticklabels': False},\n",
       "               'xaxis2': {'anchor': 'y2', 'domain': [0.0, 1.0], 'matches': 'x3', 'showticklabels': False},\n",
       "               'xaxis3': {'anchor': 'y3', 'domain': [0.0, 1.0], 'title': {'text': 'Time (s)'}},\n",
       "               'yaxis': {'anchor': 'x', 'domain': [0.7333333333333333, 1.0], 'title': {'text': 'Acceleration (G)'}},\n",
       "               'yaxis2': {'anchor': 'x2',\n",
       "                          'domain': [0.36666666666666664, 0.6333333333333333],\n",
       "                          'title': {'text': 'Acceleration (G)'}},\n",
       "               'yaxis3': {'anchor': 'x3', 'domain': [0.0, 0.26666666666666666], 'title': {'text': 'Acceleration (G)'}}}\n",
       "})"
      ]
     },
     "execution_count": 26,
     "metadata": {},
     "output_type": "execute_result"
    }
   ],
   "source": [
    "n_samples = len(X_acc)\n",
    "timesteps = np.linspace(0, math.ceil(n_samples / sr), n_samples, endpoint=False)\n",
    "\n",
    "g = 9.81\n",
    "X_acc_g = X_acc / g\n",
    "\n",
    "fig = make_subplots(rows=3, cols=1, shared_xaxes=True)\n",
    "\n",
    "colors = ['red', 'green', 'blue']\n",
    "axis_labels = ['X', 'Y', 'Z']\n",
    "\n",
    "for i in range(3):\n",
    "    fig.add_trace(\n",
    "        go.Scattergl(\n",
    "            x=timesteps,\n",
    "            y=X_acc_g[:, i],\n",
    "            name=f'Acc {axis_labels[i]}',\n",
    "            line=dict(color=colors[i])\n",
    "        ),\n",
    "        row=i+1, col=1\n",
    "    )\n",
    "    fig.update_yaxes(title_text=\"Acceleration (G)\", row=i+1, col=1)\n",
    "\n",
    "fig.update_layout(\n",
    "    title_text=\"Accelerometer Traces\",\n",
    "    height=700\n",
    ")\n",
    "fig.update_xaxes(title_text=\"Time (s)\", row=3, col=1)\n",
    "\n",
    "fig = plotly_resampler.FigureWidgetResampler(fig)\n",
    "\n",
    "fig"
   ]
  },
  {
   "cell_type": "code",
   "execution_count": 12,
   "id": "ef59c576",
   "metadata": {},
   "outputs": [
    {
     "data": {
      "text/plain": [
       "array([-5.92825488, -5.47334033, -4.97532861, ..., -9.99375439,\n",
       "       -9.88361719, -9.71122852], shape=(1048575,))"
      ]
     },
     "execution_count": 12,
     "metadata": {},
     "output_type": "execute_result"
    }
   ],
   "source": [
    "X_acc[:, 0]"
   ]
  },
  {
   "cell_type": "code",
   "execution_count": null,
   "id": "e9779c30",
   "metadata": {},
   "outputs": [],
   "source": []
  }
 ],
 "metadata": {
  "kernelspec": {
   "display_name": "venv",
   "language": "python",
   "name": "python3"
  },
  "language_info": {
   "codemirror_mode": {
    "name": "ipython",
    "version": 3
   },
   "file_extension": ".py",
   "mimetype": "text/x-python",
   "name": "python",
   "nbconvert_exporter": "python",
   "pygments_lexer": "ipython3",
   "version": "3.11.7"
  }
 },
 "nbformat": 4,
 "nbformat_minor": 5
}
