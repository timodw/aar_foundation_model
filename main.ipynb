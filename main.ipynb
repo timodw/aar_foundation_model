{
 "cells": [
  {
   "cell_type": "code",
   "execution_count": 1,
   "id": "be03c40f",
   "metadata": {},
   "outputs": [],
   "source": [
    "import pandas as pd\n",
    "from pathlib import Path\n",
    "import numpy as np\n",
    "import re\n",
    "import h5py\n",
    "import math\n",
    "\n",
    "import plotly\n",
    "from plotly.subplots import make_subplots\n",
    "import plotly.graph_objects as go\n",
    "import plotly.express as px\n",
    "import plotly_resampler\n",
    "\n",
    "\n",
    "def plot_traces(traces, sr, dtype='acc'):\n",
    "    n_samples = len(traces)\n",
    "    timesteps = np.linspace(0, math.ceil(n_samples / sr), n_samples, endpoint=False)\n",
    "\n",
    "    if dtype == 'acc':\n",
    "        g = 9.81\n",
    "        traces = traces / g\n",
    "\n",
    "    fig = make_subplots(rows=3, cols=1, shared_xaxes=True)\n",
    "\n",
    "    colors = ['red', 'green', 'blue']\n",
    "    axis_labels = ['X', 'Y', 'Z']\n",
    "\n",
    "    for i in range(3):\n",
    "        fig.add_trace(\n",
    "            go.Scattergl(\n",
    "                x=timesteps,\n",
    "                y=traces[:, i],\n",
    "                name=f'{axis_labels[i]}',\n",
    "                line=dict(color=colors[i])\n",
    "            ),\n",
    "            row=i+1, col=1\n",
    "        )\n",
    "        fig.update_yaxes(\n",
    "            title_text=f\"{'Acceleration (G)' if dtype == 'acc' else 'Angular Velocity (°/s)'}\",\n",
    "            row=i+1, col=1)\n",
    "\n",
    "    fig.update_layout(\n",
    "        title_text=f\"{'Accelerometer' if dtype == 'acc' else 'Gyroscope'} Traces\",\n",
    "        height=700\n",
    "    )\n",
    "    fig.update_xaxes(title_text=\"Time (s)\", row=3, col=1)\n",
    "\n",
    "    fig = plotly_resampler.FigureWidgetResampler(fig)\n",
    "\n",
    "    return fig"
   ]
  },
  {
   "cell_type": "code",
   "execution_count": 5,
   "id": "d82c09e7",
   "metadata": {},
   "outputs": [],
   "source": [
    "with h5py.File('/data/IDLab/aar_foundation_models/processed_data/waves_equine_activities/horse_0_ds_4.hdf5', 'r') as f:\n",
    "    sr = f.attrs['sr']\n",
    "    X_acc = f['acc_l'][:]\n",
    "    # X_gyr = f['gyr'][:]\n"
   ]
  },
  {
   "cell_type": "code",
   "execution_count": 6,
   "id": "dbebd9d4",
   "metadata": {},
   "outputs": [
    {
     "data": {
      "application/vnd.jupyter.widget-view+json": {
       "model_id": "1c891e23096d48c090ccc21ff3a5e310",
       "version_major": 2,
       "version_minor": 0
      },
      "text/plain": [
       "FigureWidgetResampler({\n",
       "    'data': [{'line': {'color': 'red'},\n",
       "              'name': '<b style=\"color:sandybrown\">[R]</b> X <i style=\"color:#fc9944\">~3</i>',\n",
       "              'type': 'scattergl',\n",
       "              'uid': '3246251c-b17d-4f1f-a411-9fceaf4c81cc',\n",
       "              'x': array([0.00000000e+00, 2.66074346e+00, 4.18116829e+00, ..., 3.21385800e+03,\n",
       "                          3.21825923e+03, 3.22097999e+03], shape=(1000,)),\n",
       "              'xaxis': 'x',\n",
       "              'y': array([-0.1022106 , -0.10942773, -0.09083721, ..., -0.10226035, -0.10484852,\n",
       "                          -0.10265851], shape=(1000,)),\n",
       "              'yaxis': 'y'},\n",
       "             {'line': {'color': 'green'},\n",
       "              'name': '<b style=\"color:sandybrown\">[R]</b> Y <i style=\"color:#fc9944\">~3</i>',\n",
       "              'type': 'scattergl',\n",
       "              'uid': '28190803-8f14-4b48-94cf-297957570845',\n",
       "              'x': array([0.00000000e+00, 2.66074346e+00, 4.16116270e+00, ..., 3.21735898e+03,\n",
       "                          3.21825923e+03, 3.22097999e+03], shape=(1000,)),\n",
       "              'xaxis': 'x2',\n",
       "              'y': array([-1.52556575e-02, -6.49551478e-03, -3.27014271e-02, ..., -7.78960245e-03,\n",
       "                          -2.48725790e-05, -6.76921509e-03], shape=(1000,)),\n",
       "              'yaxis': 'y2'},\n",
       "             {'line': {'color': 'blue'},\n",
       "              'name': '<b style=\"color:sandybrown\">[R]</b> Z <i style=\"color:#fc9944\">~3</i>',\n",
       "              'type': 'scattergl',\n",
       "              'uid': 'a8bb4319-7239-4f66-80f0-36eb3aa5eb88',\n",
       "              'x': array([0.00000000e+00, 1.00027949e-01, 4.12115152e+00, ..., 3.21403805e+03,\n",
       "                          3.21827924e+03, 3.22097999e+03], shape=(1000,)),\n",
       "              'xaxis': 'x3',\n",
       "              'y': array([-0.01002946,  0.00278736, -0.01319011, ..., -0.00968104, -0.01050224,\n",
       "                          -0.00569908], shape=(1000,)),\n",
       "              'yaxis': 'y3'}],\n",
       "    'layout': {'height': 700,\n",
       "               'template': '...',\n",
       "               'title': {'text': 'Accelerometer Traces'},\n",
       "               'xaxis': {'anchor': 'y', 'domain': [0.0, 1.0], 'matches': 'x3', 'showticklabels': False},\n",
       "               'xaxis2': {'anchor': 'y2', 'domain': [0.0, 1.0], 'matches': 'x3', 'showticklabels': False},\n",
       "               'xaxis3': {'anchor': 'y3', 'domain': [0.0, 1.0], 'title': {'text': 'Time (s)'}},\n",
       "               'yaxis': {'anchor': 'x', 'domain': [0.7333333333333333, 1.0], 'title': {'text': 'Acceleration (G)'}},\n",
       "               'yaxis2': {'anchor': 'x2',\n",
       "                          'domain': [0.36666666666666664, 0.6333333333333333],\n",
       "                          'title': {'text': 'Acceleration (G)'}},\n",
       "               'yaxis3': {'anchor': 'x3', 'domain': [0.0, 0.26666666666666666], 'title': {'text': 'Acceleration (G)'}}}\n",
       "})"
      ]
     },
     "execution_count": 6,
     "metadata": {},
     "output_type": "execute_result"
    }
   ],
   "source": [
    "plot_traces(X_acc, sr, dtype='acc')"
   ]
  },
  {
   "cell_type": "code",
   "execution_count": null,
   "id": "a27d0c4e",
   "metadata": {},
   "outputs": [],
   "source": []
  }
 ],
 "metadata": {
  "kernelspec": {
   "display_name": "venv",
   "language": "python",
   "name": "python3"
  },
  "language_info": {
   "codemirror_mode": {
    "name": "ipython",
    "version": 3
   },
   "file_extension": ".py",
   "mimetype": "text/x-python",
   "name": "python",
   "nbconvert_exporter": "python",
   "pygments_lexer": "ipython3",
   "version": "3.11.7"
  }
 },
 "nbformat": 4,
 "nbformat_minor": 5
}
