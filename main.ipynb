{
 "cells": [
  {
   "cell_type": "code",
   "execution_count": null,
   "id": "be03c40f",
   "metadata": {},
   "outputs": [],
   "source": [
    "import pandas as pd\n",
    "from pathlib import Path\n",
    "import numpy as np\n",
    "import re\n",
    "import h5py\n",
    "import math\n",
    "\n",
    "import plotly\n",
    "from plotly.subplots import make_subplots\n",
    "import plotly.graph_objects as go\n",
    "import plotly.express as px\n",
    "import plotly_resampler\n",
    "\n",
    "\n",
    "def plot_traces(traces, sr, dtype='acc'):\n",
    "    n_samples = len(traces)\n",
    "    timesteps = np.linspace(0, math.ceil(n_samples / sr), n_samples, endpoint=False)\n",
    "\n",
    "    if dtype == 'acc':\n",
    "        g = 9.81\n",
    "        traces = traces / g\n",
    "\n",
    "    fig = make_subplots(rows=3, cols=1, shared_xaxes=True)\n",
    "\n",
    "    colors = ['red', 'green', 'blue']\n",
    "    axis_labels = ['X', 'Y', 'Z']\n",
    "\n",
    "    for i in range(3):\n",
    "        fig.add_trace(\n",
    "            go.Scattergl(\n",
    "                x=timesteps,\n",
    "                y=traces[:, i],\n",
    "                name=f'{axis_labels[i]}',\n",
    "                line=dict(color=colors[i])\n",
    "            ),\n",
    "            row=i+1, col=1\n",
    "        )\n",
    "        fig.update_yaxes(\n",
    "            title_text=f\"{'Acceleration (G)' if dtype == 'acc' else 'Angular Velocity (°/s)'}\",\n",
    "            row=i+1, col=1)\n",
    "\n",
    "    fig.update_layout(\n",
    "        title_text=f\"{'Accelerometer' if dtype == 'acc' else 'Gyroscope'} Traces\",\n",
    "        height=700\n",
    "    )\n",
    "    fig.update_xaxes(title_text=\"Time (s)\", row=3, col=1)\n",
    "\n",
    "    fig = plotly_resampler.FigureWidgetResampler(fig)\n",
    "\n",
    "    return fig"
   ]
  },
  {
   "cell_type": "code",
   "execution_count": 8,
   "id": "d82c09e7",
   "metadata": {},
   "outputs": [],
   "source": [
    "with h5py.File('/data/IDLab/aar_foundation_models/processed_data/kamminga_goats/goat_0_ds_0.hdf5', 'r') as f:\n",
    "    sr = f.attrs['sr']\n",
    "    X_acc = f['acc_0'][:]\n",
    "    # X_gyr = f['gyr'][:]\n"
   ]
  },
  {
   "cell_type": "code",
   "execution_count": 6,
   "id": "dbebd9d4",
   "metadata": {},
   "outputs": [
    {
     "data": {
      "application/vnd.jupyter.widget-view+json": {
       "model_id": "1c891e23096d48c090ccc21ff3a5e310",
       "version_major": 2,
       "version_minor": 0
      },
      "text/plain": [
       "FigureWidgetResampler({\n",
       "    'data': [{'line': {'color': 'red'},\n",
       "              'name': '<b style=\"color:sandybrown\">[R]</b> X <i style=\"color:#fc9944\">~3</i>',\n",
       "              'type': 'scattergl',\n",
       "              'uid': '3246251c-b17d-4f1f-a411-9fceaf4c81cc',\n",
       "              'x': array([0.00000000e+00, 2.66074346e+00, 4.18116829e+00, ..., 3.21385800e+03,\n",
       "                          3.21825923e+03, 3.22097999e+03], shape=(1000,)),\n",
       "              'xaxis': 'x',\n",
       "              'y': array([-0.1022106 , -0.10942773, -0.09083721, ..., -0.10226035, -0.10484852,\n",
       "                          -0.10265851], shape=(1000,)),\n",
       "              'yaxis': 'y'},\n",
       "             {'line': {'color': 'green'},\n",
       "              'name': '<b style=\"color:sandybrown\">[R]</b> Y <i style=\"color:#fc9944\">~3</i>',\n",
       "              'type': 'scattergl',\n",
       "              'uid': '28190803-8f14-4b48-94cf-297957570845',\n",
       "              'x': array([0.00000000e+00, 2.66074346e+00, 4.16116270e+00, ..., 3.21735898e+03,\n",
       "                          3.21825923e+03, 3.22097999e+03], shape=(1000,)),\n",
       "              'xaxis': 'x2',\n",
       "              'y': array([-1.52556575e-02, -6.49551478e-03, -3.27014271e-02, ..., -7.78960245e-03,\n",
       "                          -2.48725790e-05, -6.76921509e-03], shape=(1000,)),\n",
       "              'yaxis': 'y2'},\n",
       "             {'line': {'color': 'blue'},\n",
       "              'name': '<b style=\"color:sandybrown\">[R]</b> Z <i style=\"color:#fc9944\">~3</i>',\n",
       "              'type': 'scattergl',\n",
       "              'uid': 'a8bb4319-7239-4f66-80f0-36eb3aa5eb88',\n",
       "              'x': array([0.00000000e+00, 1.00027949e-01, 4.12115152e+00, ..., 3.21403805e+03,\n",
       "                          3.21827924e+03, 3.22097999e+03], shape=(1000,)),\n",
       "              'xaxis': 'x3',\n",
       "              'y': array([-0.01002946,  0.00278736, -0.01319011, ..., -0.00968104, -0.01050224,\n",
       "                          -0.00569908], shape=(1000,)),\n",
       "              'yaxis': 'y3'}],\n",
       "    'layout': {'height': 700,\n",
       "               'template': '...',\n",
       "               'title': {'text': 'Accelerometer Traces'},\n",
       "               'xaxis': {'anchor': 'y', 'domain': [0.0, 1.0], 'matches': 'x3', 'showticklabels': False},\n",
       "               'xaxis2': {'anchor': 'y2', 'domain': [0.0, 1.0], 'matches': 'x3', 'showticklabels': False},\n",
       "               'xaxis3': {'anchor': 'y3', 'domain': [0.0, 1.0], 'title': {'text': 'Time (s)'}},\n",
       "               'yaxis': {'anchor': 'x', 'domain': [0.7333333333333333, 1.0], 'title': {'text': 'Acceleration (G)'}},\n",
       "               'yaxis2': {'anchor': 'x2',\n",
       "                          'domain': [0.36666666666666664, 0.6333333333333333],\n",
       "                          'title': {'text': 'Acceleration (G)'}},\n",
       "               'yaxis3': {'anchor': 'x3', 'domain': [0.0, 0.26666666666666666], 'title': {'text': 'Acceleration (G)'}}}\n",
       "})"
      ]
     },
     "execution_count": 6,
     "metadata": {},
     "output_type": "execute_result"
    }
   ],
   "source": [
    "plot_traces(X_acc, sr, dtype='acc')"
   ]
  },
  {
   "cell_type": "code",
   "execution_count": 5,
   "id": "a27d0c4e",
   "metadata": {},
   "outputs": [
    {
     "name": "stderr",
     "output_type": "stream",
     "text": [
      "/tmp/ipykernel_8552/4131006446.py:1: DtypeWarning: Columns (14) have mixed types. Specify dtype option on import or set low_memory=False.\n",
      "  df = pd.read_csv('/data/IDLab/goats_kamminga/G1/pos_A.csv')\n"
     ]
    },
    {
     "data": {
      "text/plain": [
       "Index(['ax', 'axhg', 'ay', 'ayhg', 'az', 'azhg', 'cx', 'cy', 'cz', 'gx', 'gy',\n",
       "       'gz', 'pressure', 'temp', 'label', 'segment_ID', 'animal_ID',\n",
       "       'timestamp_ms'],\n",
       "      dtype='object')"
      ]
     },
     "execution_count": 5,
     "metadata": {},
     "output_type": "execute_result"
    }
   ],
   "source": [
    "df = pd.read_csv('/data/IDLab/goats_kamminga/G1/pos_A.csv')\n",
    "df.columns"
   ]
  },
  {
   "cell_type": "code",
   "execution_count": 6,
   "id": "c94486b9",
   "metadata": {},
   "outputs": [
    {
     "data": {
      "application/vnd.microsoft.datawrangler.viewer.v0+json": {
       "columns": [
        {
         "name": "index",
         "rawType": "int64",
         "type": "integer"
        },
        {
         "name": "ax",
         "rawType": "float64",
         "type": "float"
        }
       ],
       "ref": "4d77741e-a5fe-48c7-8dd9-d5ab918d4f5c",
       "rows": [
        [
         "0",
         "-4.10199"
        ],
        [
         "1",
         "-4.31763"
        ],
        [
         "2",
         "-4.59078"
        ],
        [
         "3",
         "-4.83038"
        ],
        [
         "4",
         "-4.90945"
        ],
        [
         "5",
         "-4.82319"
        ],
        [
         "6",
         "-4.50691"
        ],
        [
         "7",
         "-4.22179"
        ],
        [
         "8",
         "-3.46704"
        ],
        [
         "9",
         "-2.68115"
        ],
        [
         "10",
         "-2.33372"
        ],
        [
         "11",
         "-2.61166"
        ],
        [
         "12",
         "-3.09805"
        ],
        [
         "13",
         "-3.46944"
        ],
        [
         "14",
         "-3.89353"
        ],
        [
         "15",
         "-4.2745"
        ],
        [
         "16",
         "-4.48775"
        ],
        [
         "17",
         "-4.60515"
        ],
        [
         "18",
         "-4.71776"
        ],
        [
         "19",
         "-4.91424"
        ],
        [
         "20",
         "-5.16103"
        ],
        [
         "21",
         "-5.25927"
        ],
        [
         "22",
         "-5.00529"
        ],
        [
         "23",
         "-4.52369"
        ],
        [
         "24",
         "-4.16908"
        ],
        [
         "25",
         "-3.8504"
        ],
        [
         "26",
         "-3.53892"
        ],
        [
         "27",
         "-3.35203"
        ],
        [
         "28",
         "-3.12201"
        ],
        [
         "29",
         "-3.01899"
        ],
        [
         "30",
         "-3.20588"
        ],
        [
         "31",
         "-3.47423"
        ],
        [
         "32",
         "-3.84082"
        ],
        [
         "33",
         "-3.87437"
        ],
        [
         "34",
         "-3.50059"
        ],
        [
         "35",
         "-2.88481"
        ],
        [
         "36",
         "-2.33133"
        ],
        [
         "37",
         "-1.80181"
        ],
        [
         "38",
         "-1.76826"
        ],
        [
         "39",
         "-1.95276"
        ],
        [
         "40",
         "-1.91202"
        ],
        [
         "41",
         "-1.70597"
        ],
        [
         "42",
         "-1.99349"
        ],
        [
         "43",
         "-2.99742"
        ],
        [
         "44",
         "-4.09959"
        ],
        [
         "45",
         "-4.8184"
        ],
        [
         "46",
         "-5.10832"
        ],
        [
         "47",
         "-4.98612"
        ],
        [
         "48",
         "-4.46139"
        ],
        [
         "49",
         "-3.80248"
        ]
       ],
       "shape": {
        "columns": 1,
        "rows": 4589800
       }
      },
      "text/html": [
       "<div>\n",
       "<style scoped>\n",
       "    .dataframe tbody tr th:only-of-type {\n",
       "        vertical-align: middle;\n",
       "    }\n",
       "\n",
       "    .dataframe tbody tr th {\n",
       "        vertical-align: top;\n",
       "    }\n",
       "\n",
       "    .dataframe thead th {\n",
       "        text-align: right;\n",
       "    }\n",
       "</style>\n",
       "<table border=\"1\" class=\"dataframe\">\n",
       "  <thead>\n",
       "    <tr style=\"text-align: right;\">\n",
       "      <th></th>\n",
       "      <th>ax</th>\n",
       "    </tr>\n",
       "  </thead>\n",
       "  <tbody>\n",
       "    <tr>\n",
       "      <th>0</th>\n",
       "      <td>-4.10199</td>\n",
       "    </tr>\n",
       "    <tr>\n",
       "      <th>1</th>\n",
       "      <td>-4.31763</td>\n",
       "    </tr>\n",
       "    <tr>\n",
       "      <th>2</th>\n",
       "      <td>-4.59078</td>\n",
       "    </tr>\n",
       "    <tr>\n",
       "      <th>3</th>\n",
       "      <td>-4.83038</td>\n",
       "    </tr>\n",
       "    <tr>\n",
       "      <th>4</th>\n",
       "      <td>-4.90945</td>\n",
       "    </tr>\n",
       "    <tr>\n",
       "      <th>...</th>\n",
       "      <td>...</td>\n",
       "    </tr>\n",
       "    <tr>\n",
       "      <th>4589795</th>\n",
       "      <td>-5.98766</td>\n",
       "    </tr>\n",
       "    <tr>\n",
       "      <th>4589796</th>\n",
       "      <td>-5.45095</td>\n",
       "    </tr>\n",
       "    <tr>\n",
       "      <th>4589797</th>\n",
       "      <td>-4.00615</td>\n",
       "    </tr>\n",
       "    <tr>\n",
       "      <th>4589798</th>\n",
       "      <td>-3.04534</td>\n",
       "    </tr>\n",
       "    <tr>\n",
       "      <th>4589799</th>\n",
       "      <td>-3.52934</td>\n",
       "    </tr>\n",
       "  </tbody>\n",
       "</table>\n",
       "<p>4589800 rows × 1 columns</p>\n",
       "</div>"
      ],
      "text/plain": [
       "              ax\n",
       "0       -4.10199\n",
       "1       -4.31763\n",
       "2       -4.59078\n",
       "3       -4.83038\n",
       "4       -4.90945\n",
       "...          ...\n",
       "4589795 -5.98766\n",
       "4589796 -5.45095\n",
       "4589797 -4.00615\n",
       "4589798 -3.04534\n",
       "4589799 -3.52934\n",
       "\n",
       "[4589800 rows x 1 columns]"
      ]
     },
     "execution_count": 6,
     "metadata": {},
     "output_type": "execute_result"
    }
   ],
   "source": [
    "df[['ax']]"
   ]
  },
  {
   "cell_type": "code",
   "execution_count": null,
   "id": "f4c281c7",
   "metadata": {},
   "outputs": [],
   "source": []
  }
 ],
 "metadata": {
  "kernelspec": {
   "display_name": "venv",
   "language": "python",
   "name": "python3"
  },
  "language_info": {
   "codemirror_mode": {
    "name": "ipython",
    "version": 3
   },
   "file_extension": ".py",
   "mimetype": "text/x-python",
   "name": "python",
   "nbconvert_exporter": "python",
   "pygments_lexer": "ipython3",
   "version": "3.11.7"
  }
 },
 "nbformat": 4,
 "nbformat_minor": 5
}
