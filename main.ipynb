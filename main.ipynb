{
 "cells": [
  {
   "cell_type": "code",
   "execution_count": null,
   "id": "be03c40f",
   "metadata": {},
   "outputs": [],
   "source": [
    "import pandas as pd\n",
    "from pathlib import Path\n",
    "import numpy as np\n",
    "import re\n",
    "import h5py\n",
    "import math\n",
    "\n",
    "import plotly\n",
    "from plotly.subplots import make_subplots\n",
    "import plotly.graph_objects as go\n",
    "import plotly.express as px\n",
    "import plotly_resampler\n",
    "\n",
    "\n",
    "def plot_traces(traces, sr, dtype='acc'):\n",
    "    n_samples = len(traces)\n",
    "    timesteps = np.linspace(0, math.ceil(n_samples / sr), n_samples, endpoint=False)\n",
    "\n",
    "    if dtype == 'acc':\n",
    "        g = 9.81\n",
    "        traces = traces / g\n",
    "\n",
    "    fig = make_subplots(rows=3, cols=1, shared_xaxes=True)\n",
    "\n",
    "    colors = ['red', 'green', 'blue']\n",
    "    axis_labels = ['X', 'Y', 'Z']\n",
    "\n",
    "    for i in range(3):\n",
    "        fig.add_trace(\n",
    "            go.Scattergl(\n",
    "                x=timesteps,\n",
    "                y=traces[:, i],\n",
    "                name=f'{axis_labels[i]}',\n",
    "                line=dict(color=colors[i])\n",
    "            ),\n",
    "            row=i+1, col=1\n",
    "        )\n",
    "        fig.update_yaxes(\n",
    "            title_text=f\"{'Acceleration (G)' if dtype == 'acc' else 'Angular Velocity (°/s)'}\",\n",
    "            row=i+1, col=1)\n",
    "\n",
    "    fig.update_layout(\n",
    "        title_text=f\"{'Accelerometer' if dtype == 'acc' else 'Gyroscope'} Traces\",\n",
    "        height=700\n",
    "    )\n",
    "    fig.update_xaxes(title_text=\"Time (s)\", row=3, col=1)\n",
    "\n",
    "    fig = plotly_resampler.FigureWidgetResampler(fig)\n",
    "\n",
    "    return fig"
   ]
  },
  {
   "cell_type": "code",
   "execution_count": null,
   "id": "d82c09e7",
   "metadata": {},
   "outputs": [],
   "source": [
    "with h5py.File('/data/IDLab/aar_foundation_models/processed_data/horse_1_ds_0.hdf5', 'r') as f:\n",
    "    sr = f.attrs['sr']\n",
    "    X_acc = f['acc'][:]\n",
    "    X_gyr = f['gyr'][:]\n"
   ]
  },
  {
   "cell_type": "code",
   "execution_count": 35,
   "id": "dbebd9d4",
   "metadata": {},
   "outputs": [
    {
     "data": {
      "application/vnd.jupyter.widget-view+json": {
       "model_id": "48284d7262164385b5380cdfe407b33a",
       "version_major": 2,
       "version_minor": 0
      },
      "text/plain": [
       "FigureWidgetResampler({\n",
       "    'data': [{'line': {'color': 'red'},\n",
       "              'name': '<b style=\"color:sandybrown\">[R]</b> X <i style=\"color:#fc9944\">~10</i>',\n",
       "              'type': 'scattergl',\n",
       "              'uid': 'b9cd7264-4402-4bf5-9d70-b8d1bd6c0296',\n",
       "              'x': array([0.00000000e+00, 1.81004315e+00, 1.77304227e+01, ..., 1.04625994e+04,\n",
       "                          1.04767698e+04, 1.04859900e+04], shape=(1000,)),\n",
       "              'xaxis': 'x',\n",
       "              'y': array([-0.60430733, -1.79437297, -0.18988332, ..., -0.88254253, -0.59503282,\n",
       "                          -0.98993155], shape=(1000,)),\n",
       "              'yaxis': 'y'},\n",
       "             {'line': {'color': 'green'},\n",
       "              'name': '<b style=\"color:sandybrown\">[R]</b> Y <i style=\"color:#fc9944\">~10</i>',\n",
       "              'type': 'scattergl',\n",
       "              'uid': '75753fd0-45b0-4422-9b8e-0ea9b37e9dba',\n",
       "              'x': array([0.00000000e+00, 1.81004315e+00, 1.22302916e+01, ..., 1.04610994e+04,\n",
       "                          1.04764398e+04, 1.04859900e+04], shape=(1000,)),\n",
       "              'xaxis': 'x2',\n",
       "              'y': array([ 0.09811452,  2.20440379,  0.18695453, ..., -0.07175539, -0.43150862,\n",
       "                          -0.0473488 ], shape=(1000,)),\n",
       "              'yaxis': 'y2'},\n",
       "             {'line': {'color': 'blue'},\n",
       "              'name': '<b style=\"color:sandybrown\">[R]</b> Z <i style=\"color:#fc9944\">~10</i>',\n",
       "              'type': 'scattergl',\n",
       "              'uid': 'd69b8cfa-b2b7-415e-bdc1-1cf3ff6e065b',\n",
       "              'x': array([0.00000000e+00, 1.81004315e+00, 1.14302725e+01, ..., 1.04635395e+04,\n",
       "                          1.04807699e+04, 1.04859900e+04], shape=(1000,)),\n",
       "              'xaxis': 'x3',\n",
       "              'y': array([ 0.67850338, -2.28933874,  0.86789857, ...,  0.42662731,  0.58527018,\n",
       "                           0.07712484], shape=(1000,)),\n",
       "              'yaxis': 'y3'}],\n",
       "    'layout': {'height': 700,\n",
       "               'template': '...',\n",
       "               'title': {'text': 'Accelerometer Traces'},\n",
       "               'xaxis': {'anchor': 'y', 'domain': [0.0, 1.0], 'matches': 'x3', 'showticklabels': False},\n",
       "               'xaxis2': {'anchor': 'y2', 'domain': [0.0, 1.0], 'matches': 'x3', 'showticklabels': False},\n",
       "               'xaxis3': {'anchor': 'y3', 'domain': [0.0, 1.0], 'title': {'text': 'Time (s)'}},\n",
       "               'yaxis': {'anchor': 'x', 'domain': [0.7333333333333333, 1.0], 'title': {'text': 'Acceleration (G)'}},\n",
       "               'yaxis2': {'anchor': 'x2',\n",
       "                          'domain': [0.36666666666666664, 0.6333333333333333],\n",
       "                          'title': {'text': 'Acceleration (G)'}},\n",
       "               'yaxis3': {'anchor': 'x3', 'domain': [0.0, 0.26666666666666666], 'title': {'text': 'Acceleration (G)'}}}\n",
       "})"
      ]
     },
     "execution_count": 35,
     "metadata": {},
     "output_type": "execute_result"
    }
   ],
   "source": [
    "plot_traces(X_acc, sr, dtype='acc')"
   ]
  },
  {
   "cell_type": "code",
   "execution_count": 34,
   "id": "e9779c30",
   "metadata": {},
   "outputs": [
    {
     "data": {
      "application/vnd.jupyter.widget-view+json": {
       "model_id": "29a83978c884484aa21ed4c2dda1138f",
       "version_major": 2,
       "version_minor": 0
      },
      "text/plain": [
       "FigureWidgetResampler({\n",
       "    'data': [{'line': {'color': 'red'},\n",
       "              'name': '<b style=\"color:sandybrown\">[R]</b> X <i style=\"color:#fc9944\">~10</i>',\n",
       "              'type': 'scattergl',\n",
       "              'uid': '16665762-f1de-4edf-b2bb-27b377f45897',\n",
       "              'x': array([0.00000000e+00, 2.56006104e+00, 1.07302558e+01, ..., 1.04689796e+04,\n",
       "                          1.04816499e+04, 1.04859900e+04], shape=(1000,)),\n",
       "              'xaxis': 'x',\n",
       "              'y': array([ -24.04785156,  190.24658203,  -32.77587891, ...,  -65.00244141,\n",
       "                          -205.26123047,   -4.69970703], shape=(1000,)),\n",
       "              'yaxis': 'y'},\n",
       "             {'line': {'color': 'green'},\n",
       "              'name': '<b style=\"color:sandybrown\">[R]</b> Y <i style=\"color:#fc9944\">~10</i>',\n",
       "              'type': 'scattergl',\n",
       "              'uid': 'd5293455-c82d-4552-9220-d8e4fc2ddcd2',\n",
       "              'x': array([0.00000000e+00, 3.33007939e+00, 1.07502563e+01, ..., 1.04630295e+04,\n",
       "                          1.04817099e+04, 1.04859900e+04], shape=(1000,)),\n",
       "              'xaxis': 'x2',\n",
       "              'y': array([ -34.72900391,  153.19824219,  -18.61572266, ...,  -36.07177734,\n",
       "                          -131.65283203,   12.32910156], shape=(1000,)),\n",
       "              'yaxis': 'y2'},\n",
       "             {'line': {'color': 'blue'},\n",
       "              'name': '<b style=\"color:sandybrown\">[R]</b> Z <i style=\"color:#fc9944\">~10</i>',\n",
       "              'type': 'scattergl',\n",
       "              'uid': '10574aac-33b5-43b0-bce9-cc64b332b63e',\n",
       "              'x': array([0.00000000e+00, 2.56006104e+00, 1.07202556e+01, ..., 1.04630195e+04,\n",
       "                          1.04765798e+04, 1.04859900e+04], shape=(1000,)),\n",
       "              'xaxis': 'x3',\n",
       "              'y': array([ -5.00488281, -85.63232422,  38.87939453, ...,  10.92529297,\n",
       "                           86.79199219,  -3.78417969], shape=(1000,)),\n",
       "              'yaxis': 'y3'}],\n",
       "    'layout': {'height': 700,\n",
       "               'template': '...',\n",
       "               'title': {'text': 'Gyroscope Traces'},\n",
       "               'xaxis': {'anchor': 'y', 'domain': [0.0, 1.0], 'matches': 'x3', 'showticklabels': False},\n",
       "               'xaxis2': {'anchor': 'y2', 'domain': [0.0, 1.0], 'matches': 'x3', 'showticklabels': False},\n",
       "               'xaxis3': {'anchor': 'y3', 'domain': [0.0, 1.0], 'title': {'text': 'Time (s)'}},\n",
       "               'yaxis': {'anchor': 'x',\n",
       "                         'domain': [0.7333333333333333, 1.0],\n",
       "                         'title': {'text': 'Angular Velocity (degrees per second)'}},\n",
       "               'yaxis2': {'anchor': 'x2',\n",
       "                          'domain': [0.36666666666666664, 0.6333333333333333],\n",
       "                          'title': {'text': 'Angular Velocity (degrees per second)'}},\n",
       "               'yaxis3': {'anchor': 'x3',\n",
       "                          'domain': [0.0, 0.26666666666666666],\n",
       "                          'title': {'text': 'Angular Velocity (degrees per second)'}}}\n",
       "})"
      ]
     },
     "execution_count": 34,
     "metadata": {},
     "output_type": "execute_result"
    }
   ],
   "source": [
    "plot_traces(X_gyr, sr, dtype='gyro')"
   ]
  },
  {
   "cell_type": "code",
   "execution_count": null,
   "id": "a27d0c4e",
   "metadata": {},
   "outputs": [],
   "source": []
  }
 ],
 "metadata": {
  "kernelspec": {
   "display_name": "venv",
   "language": "python",
   "name": "python3"
  },
  "language_info": {
   "codemirror_mode": {
    "name": "ipython",
    "version": 3
   },
   "file_extension": ".py",
   "mimetype": "text/x-python",
   "name": "python",
   "nbconvert_exporter": "python",
   "pygments_lexer": "ipython3",
   "version": "3.11.7"
  }
 },
 "nbformat": 4,
 "nbformat_minor": 5
}
