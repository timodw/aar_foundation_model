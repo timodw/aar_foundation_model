{
 "cells": [
  {
   "cell_type": "code",
   "execution_count": 1,
   "id": "be03c40f",
   "metadata": {},
   "outputs": [],
   "source": [
    "import pandas as pd\n",
    "from pathlib import Path\n",
    "import numpy as np\n",
    "import re\n",
    "import h5py"
   ]
  },
  {
   "cell_type": "code",
   "execution_count": 2,
   "id": "d82c09e7",
   "metadata": {},
   "outputs": [
    {
     "name": "stdout",
     "output_type": "stream",
     "text": [
      "[b'unknown' b'unknown' b'unknown' ... b'unknown' b'unknown' b'unknown']\n"
     ]
    }
   ],
   "source": [
    "with h5py.File('/data/IDLab/aar_foundation_models/processed_data/horse_1_ds_0.hdf5', 'r') as f:\n",
    "    print(f['label'][:])"
   ]
  },
  {
   "cell_type": "code",
   "execution_count": null,
   "id": "dbebd9d4",
   "metadata": {},
   "outputs": [],
   "source": []
  }
 ],
 "metadata": {
  "kernelspec": {
   "display_name": "venv",
   "language": "python",
   "name": "python3"
  },
  "language_info": {
   "codemirror_mode": {
    "name": "ipython",
    "version": 3
   },
   "file_extension": ".py",
   "mimetype": "text/x-python",
   "name": "python",
   "nbconvert_exporter": "python",
   "pygments_lexer": "ipython3",
   "version": "3.11.7"
  }
 },
 "nbformat": 4,
 "nbformat_minor": 5
}
